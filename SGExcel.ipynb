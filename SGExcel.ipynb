{
 "cells": [
  {
   "cell_type": "markdown",
   "id": "849c2d11-428c-4abb-9b8c-1fdc1feb4925",
   "metadata": {},
   "source": [
    "# install"
   ]
  },
  {
   "cell_type": "code",
   "execution_count": null,
   "id": "21fdcb88-bfb1-4f0e-8a8d-68ec34d6bf70",
   "metadata": {},
   "outputs": [],
   "source": [
    "pip install pandas openpyxl"
   ]
  },
  {
   "cell_type": "markdown",
   "id": "f36b9c60-09b3-40c0-b966-c33f8e23879f",
   "metadata": {},
   "source": [
    "# Create a file"
   ]
  },
  {
   "cell_type": "code",
   "execution_count": 1,
   "id": "2ca8ee63-736d-43dd-8fa5-20a2b6823e32",
   "metadata": {},
   "outputs": [
    {
     "name": "stdout",
     "output_type": "stream",
     "text": [
      "A new Excel file has been created.\n"
     ]
    }
   ],
   "source": [
    "from openpyxl import Workbook\n",
    "\n",
    "# Get the file path from the user\n",
    "new_file_path = r'C:\\\\LJH\\\\새로운학생출석.xlsx'\n",
    "\n",
    "# Create a new Excel file\n",
    "wb = Workbook()\n",
    "ws = wb.active\n",
    "ws.title = \"학생출석\"\n",
    "\n",
    "# Add existing data\n",
    "existing_data = [\n",
    "    ['이름', '학번', '시간'],\n",
    "]\n",
    "\n",
    "# Append existing data to the sheet\n",
    "for row in existing_data:\n",
    "    ws.append(row)\n",
    "\n",
    "# Save the file\n",
    "wb.save(new_file_path)\n",
    "print(\"A new Excel file has been created.\")\n"
   ]
  },
  {
   "cell_type": "markdown",
   "id": "5a4b97d9-1dc4-407a-a952-cdba63727b02",
   "metadata": {},
   "source": [
    "# Add Content"
   ]
  },
  {
   "cell_type": "code",
   "execution_count": 2,
   "id": "16d2a74d-3368-4953-9e39-935e373f62ba",
   "metadata": {},
   "outputs": [
    {
     "name": "stdout",
     "output_type": "stream",
     "text": [
      "Data has been successfully added.\n"
     ]
    }
   ],
   "source": [
    "import os\n",
    "from openpyxl import load_workbook\n",
    "import pandas as pd\n",
    "import datetime\n",
    "\n",
    "# Get file path from the user\n",
    "file_path = r'C:\\\\LJH\\\\새로운학생출석.xlsx'\n",
    "current_datetime = datetime.datetime.now()\n",
    "formatted_datetime = current_datetime.strftime(\"%Y-%m-%d %H:%M:%S\")\n",
    "\n",
    "# Check if the file exists\n",
    "if os.path.exists(file_path):\n",
    "    try:\n",
    "        # Load the existing Excel file\n",
    "        book = load_workbook(file_path)\n",
    "\n",
    "        # Select the first sheet with existing data\n",
    "        sheet = book.active\n",
    "\n",
    "        # New data to be added\n",
    "        new_data = {\n",
    "            'Name': ['김동영'],\n",
    "            'Student ID': ['20200104'],\n",
    "            'Time': [formatted_datetime]  # Example with two timestamps added\n",
    "        }\n",
    "        new_df = pd.DataFrame(new_data)\n",
    "\n",
    "        # Convert DataFrame data to a list\n",
    "        new_data_list = new_df.values.tolist()\n",
    "\n",
    "        # Append new data after the last row\n",
    "        for row in new_data_list:\n",
    "            sheet.append(row)\n",
    "\n",
    "        # Save changes\n",
    "        book.save(file_path)\n",
    "        print(\"Data has been successfully added.\")\n",
    "    except Exception as e:\n",
    "        print(f\"An error occurred while loading the file: {e}\")\n",
    "else:\n",
    "    print(\"The file does not exist.\")\n"
   ]
  },
  {
   "cell_type": "code",
   "execution_count": null,
   "id": "dee3060d-7f6f-4fb8-a8fe-adcb48f87cfd",
   "metadata": {},
   "outputs": [],
   "source": []
  }
 ],
 "metadata": {
  "kernelspec": {
   "display_name": "Python 3 (ipykernel)",
   "language": "python",
   "name": "python3"
  },
  "language_info": {
   "codemirror_mode": {
    "name": "ipython",
    "version": 3
   },
   "file_extension": ".py",
   "mimetype": "text/x-python",
   "name": "python",
   "nbconvert_exporter": "python",
   "pygments_lexer": "ipython3",
   "version": "3.12.2"
  }
 },
 "nbformat": 4,
 "nbformat_minor": 5
}
